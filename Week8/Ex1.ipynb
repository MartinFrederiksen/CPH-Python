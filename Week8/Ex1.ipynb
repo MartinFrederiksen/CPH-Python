{
 "nbformat": 4,
 "nbformat_minor": 2,
 "metadata": {
  "language_info": {
   "name": "python",
   "codemirror_mode": {
    "name": "ipython",
    "version": 3
   },
   "version": "3.7.4-final"
  },
  "orig_nbformat": 2,
  "file_extension": ".py",
  "mimetype": "text/x-python",
  "name": "python",
  "npconvert_exporter": "python",
  "pygments_lexer": "ipython3",
  "version": 3,
  "kernelspec": {
   "name": "python37464bitbaseconda8c3c356c33854de4bbce30c4c9382af5",
   "display_name": "Python 3.7.4 64-bit ('base': conda)"
  }
 },
 "cells": [
  {
   "cell_type": "markdown",
   "metadata": {},
   "source": [
    "Link: http://www.gutenberg.org/ebooks/search/?query=sherlock+holmes+conan\n",
    "\n",
    "1. Brug selenium til at gennemgå de 25 populæreste Sherlock Holmes bøger.\n",
    "2. Brug regex til at finde alle afsnit der indeholder £ tegn, samt det fulde beløb der nævnes.\n",
    "3. Hvor mange gange nævnes konkrete beløber i £? Udskriv hele det afsnit hvor det højeste £ beløb nævnes.\n"
   ]
  },
  {
   "cell_type": "code",
   "execution_count": 59,
   "metadata": {},
   "outputs": [],
   "source": [
    "from selenium import webdriver\n",
    "from selenium.webdriver.firefox.firefox_binary import FirefoxBinary\n",
    "from selenium.common.exceptions import NoSuchElementException\n",
    "from time import sleep\n",
    "import bs4\n",
    "import re"
   ]
  },
  {
   "cell_type": "code",
   "execution_count": 73,
   "metadata": {},
   "outputs": [
    {
     "name": "stdout",
     "output_type": "stream",
     "text": "['<pre>', '<p class=\"pfirst\">', '<p class=\"letter\">', '<p class=\"right\">', '<p class=\"p2\">', '<p class=\"p2\">', '<p class=\"pfirst\"> <span class=\"dropcap\" style=\"font-size: 1.50em\">I</span>', '<p class=\"letter\">', '<p class=\"letter\">', '<p class=\"p2\">', '<p class=\"pfirst\">', '<p class=\"pfirst\">', '<p class=\"pfirst\">', '<p class=\"p2\">', '<p class=\"pfirst\">', '<p class=\"pfirst\">', '<p class=\"pfirst\">', '<p class=\"p2\">', '<p class=\"p2\">', '<p class=\"p2\">', '<p class=\"pfirst\">', '<p class=\"pfirst\">', '<p class=\"letter\">', '<p class=\"right\">', '<p class=\"p2\">', '<p class=\"p2\">', '<p class=\"pfirst\">', '<p class=\"letter\">', '<p class=\"right\">', '<p class=\"p2\">', '<p class=\"pfirst\">', '<p class=\"letter\">', '<p class=\"right\">', '<p class=\"p2\">', '<p class=\"letter\">', '<p class=\"right\">', '<p class=\"p2\">', '<p class=\"letter\">', '<p class=\"right\">', '<p class=\"p2\">', '<p class=\"p2\">', '<pre>']\n42\n"
    }
   ],
   "source": [
    "options = webdriver.FirefoxOptions() \n",
    "options.add_argument(\"start-maximized\")\n",
    "options.add_argument('disable-infobars')\n",
    "binary = FirefoxBinary('/Applications/Firefox Developer Edition.app/Contents/MacOS/firefox-bin')\n",
    "browser = webdriver.Firefox(firefox_binary=binary)\n",
    "\n",
    "browser.get('http://www.gutenberg.org/ebooks/search/?query=sherlock+holmes+conan')\n",
    "browser.implicitly_wait(3)\n",
    "\n",
    "browser.find_elements_by_class_name('booklink')[0].click()\n",
    "browser.find_element_by_xpath('//*[@title=\"Download\"]').click()\n",
    "soup = bs4.BeautifulSoup(browser.page_source, 'html.parser')\n",
    "\n",
    "\n",
    "\n",
    "\n",
    "#test = str(soup.findAll(text=True))\n",
    "\n",
    "with open('test.txt', 'r') as File:\n",
    "    test = File.read()\n",
    "\n",
    "symbolFinder = re.compile(r'<p.*>')\n",
    "matchObj = symbolFinder.findall(str(soup))\n",
    "print(matchObj)\n",
    "print(len(matchObj))\n",
    "\n",
    "browser.quit()"
   ]
  },
  {
   "cell_type": "code",
   "execution_count": 65,
   "metadata": {},
   "outputs": [
    {
     "name": "stdout",
     "output_type": "stream",
     "text": "['£', '£', '£', '£', '£', '£', '£', '£', '£', '£', '£', '£', '£', '£', '£', '£', '£', '£', '£', '£', '£', '£', '£', '£', '£', '£', '£', '£', '£', '£', '£', '£', '£', '£', '£', '£', '£']\n"
    }
   ],
   "source": [
    "with open('test.txt', 'r') as File:\n",
    "    test = File.read()\n",
    "\n",
    "symbolFinder = re.compile(r'£')\n",
    "result = symbolFinder.findall(test)\n",
    "print(result)\n",
    "#print(len(result))\n",
    "#for m in symbolFinder.finditer(test):\n",
    "    #print(m.start())\n",
    "    #print(test[60008:600011])"
   ]
  },
  {
   "cell_type": "code",
   "execution_count": null,
   "metadata": {},
   "outputs": [],
   "source": []
  }
 ]
}