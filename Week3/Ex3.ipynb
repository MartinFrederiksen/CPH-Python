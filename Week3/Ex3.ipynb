{
 "cells": [
  {
   "cell_type": "markdown",
   "execution_count": null,
   "metadata": {},
   "outputs": [],
   "source": [
    "### Ex 1 Classes\n",
    "\n",
    "\n",
    "1. Create 3 classes: Student, DataSheet and Course\n",
    "2. A student has a data_sheet and a data_sheet has multiple courses in particular order\n",
    "3. Each course has name, classroom, teacher, ETCS and optional grade if course is taken.\n",
    "4. In Student create init() so that a Student can be initiated with name, gender, data_sheet and image_url\n",
    "5. In DataSheet create a method to get_grades_as_list()\n",
    "6. In student create a method: get_avg_grade()\n",
    "7. Create a function that can generate n number of students with random: name, gender, courses (from a fixed list of course names), grades, img_url\n",
    "    \n",
    "    A. Let the function write the result to a csv file with format stud_name, course_name, teacher, ects, classroom, grade, img_url\n",
    "    \n",
    "8. Read student data into a list from a csv file:\n",
    "        \n",
    "    A. loop through the list and print each student with name, img_url and avg_grade.\n",
    "    \n",
    "    B. sort the list by avg_grade.\n",
    "    \n",
    "    C. create a bar chart with student_name on x and avg_grade on y-axis.\n",
    "9. Make a method on Student class that can show progression of the study in % (add up ECTS from all passed courses divided by total of 150 total points (equivalent to 5 semesters))\n",
    "10. Show a line graph of distribution of study progression on x-axis and number of students in each category on y-axis. (e.g. make 10 categories from 0-100%)\n",
    "\n",
    "Extra: Make the Datasheet class iterable so that next(data_sheet) will return the next course in the list"
   ]
  },
  {
   "cell_type": "code",
   "execution_count": 85,
   "metadata": {},
   "outputs": [
    {
     "name": "stdout",
     "output_type": "stream",
     "text": "Walter, https://i.imgur.com/7ddcwox.png, 10.0\nVikke, https://i.imgur.com/7ddcwox.png, 2.0\nWilliam, https://i.imgur.com/jUYx9l5.jpg, 10.0\n"
    },
    {
     "data": {
      "image/png": "[encoded data removed]",
      "text/plain": "<Figure size 432x288 with 1 Axes>"
     },
     "metadata": {
      "needs_background": "light"
     },
     "output_type": "display_data"
    },
    {
     "data": {
      "image/png": "[encoded data removed]",
      "text/plain": "<Figure size 432x288 with 1 Axes>"
     },
     "metadata": {
      "needs_background": "light"
     },
     "output_type": "display_data"
    }
   ],
   "source": [
    "from Course import Course\n",
    "from DataSheet import DataSheet\n",
    "from Student import Student\n",
    "import RandomFunc as randomFunc\n",
    "import matplotlib.pyplot as plt\n",
    "import math\n",
    "\n",
    "randomFunc.writeToCsv(4)\n",
    "students = randomFunc.readFromCsv()\n",
    "\n",
    "simpleDict = {}\n",
    "procentProgress = []\n",
    "for studentName in students:\n",
    "    student = students[studentName]\n",
    "    simpleDict[studentName] = student.getAvgGrade()\n",
    "    procentProgress.append(int(math.ceil(student.showProgress() / 10.0)) * 10)\n",
    "    print('{}, {}, {}'.format(student.name, student.imgUrl, student.getAvgGrade()))\n",
    "\n",
    "simpleSorted = {k: v for k, v in sorted(simpleDict.items(), key=lambda item: item[1])}\n",
    "plt.bar(simpleSorted.keys(), simpleSorted.values())\n",
    "plt.title(\"Students and grades\", fontsize=14)\n",
    "plt.xlabel(\"Student name\", fontsize=10)\n",
    "plt.ylabel(\"Avg grade\", fontsize=10)\n",
    "plt.show()\n",
    "\n",
    "\n",
    "Labels = ['10%', '20%', '30%', '40%', '50%', '60%', '70%', '80%', '90%', '100%']\n",
    "sizes = [0, 0, 0, 0, 0, 0, 0, 0, 0, 0]\n",
    "for i in procentProgress:\n",
    "    sizes[int(i/10)] += 1\n",
    "plt.bar(Labels, sizes)\n",
    "plt.title(\"Students and grades\", fontsize=14)\n",
    "plt.xlabel(\"Study progression\", fontsize=10)\n",
    "plt.ylabel(\"Number of students\", fontsize=10)\n",
    "plt.show()"
   ]
  },
  {
   "cell_type": "markdown",
   "execution_count": null,
   "metadata": {},
   "outputs": [],
   "source": [
    "### Ex 2 Exceptions\n",
    "\n",
    "\n",
    "1. Create a function that can take a list of students and return the 3 students closest to completing their study.\n",
    "2. If list is shorter than 3 raise your own custom exception (NotEnoughStudentsException)\n",
    "3. Create another function that can create a csv file with 3 students closest to completion\n",
    "    \n",
    "    A. If an exception is raised write an appropriate message to the file\n"
   ]
  },
  {
   "cell_type": "code",
   "execution_count": 86,
   "metadata": {},
   "outputs": [],
   "source": [
    "import csv\n",
    "\n",
    "class NotEnoughStudentsException(ValueError):\n",
    "    \n",
    "    def __init__(self, *args, **kwargs):\n",
    "        ValueError.__init__(self, *args, **kwargs)\n",
    "\n",
    "\n",
    "def studentCloseToComplete():\n",
    "        if (len(studentProgress) >= 3):\n",
    "            sortedWithProgress = sorted(studentProgress.keys(), reverse=True)[:3]\n",
    "            dictToCsv = {}\n",
    "            for name in sortedWithProgress:\n",
    "                for studentName in students:\n",
    "                    if studentName == name:\n",
    "                        dictToCsv[studentName] = students[studentName]\n",
    "            writeToCsv(dictToCsv)\n",
    "        else:\n",
    "            with open('./studentsProgress.csv', 'w') as File:\n",
    "                writeToErrorCsv()\n",
    "            raise NotEnoughStudentsException(\"Not enough students! There must be atleast 3 students\")\n",
    "\n",
    "\n",
    "def writeToCsv(studentsToWrite):\n",
    "    with open('./studentsProgress.csv', 'w') as File:\n",
    "        writer = csv.writer(File, quoting=csv.QUOTE_NONNUMERIC)\n",
    "        \n",
    "        col = ['stud_name', 'gender' 'course_name', 'classroom', 'teacher', 'ECTS', 'grade', 'img_url']\n",
    "        writer.writerow(col)\n",
    "\n",
    "        for student in list(studentsToWrite):\n",
    "            for course in studentsToWrite[student].dataSheet.courses:\n",
    "                writer.writerow([\n",
    "                    studentsToWrite[student].name,\n",
    "                    studentsToWrite[student].gender,\n",
    "                    course.name,\n",
    "                    course.classroom,\n",
    "                    course.teacher,\n",
    "                    course.ECTS,\n",
    "                    course.grade,\n",
    "                    studentsToWrite[student].imgUrl\n",
    "                    ])\n",
    "\n",
    "def writeToErrorCsv():\n",
    "    with open('./studentsProgress.csv', 'w') as File:\n",
    "        writer = csv.writer(File, quoting=csv.QUOTE_ALL)\n",
    "        writer.writerow([\"Not more then 3 students as needed!\"])\n",
    "\n",
    "\n",
    "\n",
    "studentProgress = {}\n",
    "for studentName in students:\n",
    "    studentProgress[studentName] = students[studentName].showProgress()\n",
    "studentCloseToComplete()"
   ]
  },
  {
   "cell_type": "markdown",
   "execution_count": null,
   "metadata": {},
   "outputs": [],
   "source": [
    "### Ex 3 Plotting\n",
    "\n",
    "\n",
    "1. Create a function that can take a list of students and show a pie chart of how students are distributed in ECTS percentage categories (10%, 20%, ...)\n",
    "2. create a function that can take a list of students and show how many students have taken each course (bar chart)\n",
    "        create a method on student that can return a list of courses\n",
    "3. make the figure show males and females in different colors for each course (display 2 datasets in same figure)\n"
   ]
  },
  {
   "cell_type": "code",
   "execution_count": 87,
   "metadata": {},
   "outputs": [
    {
     "data": {
      "image/png": "[encoded data removed]",
      "text/plain": "<Figure size 432x288 with 1 Axes>"
     },
     "metadata": {},
     "output_type": "display_data"
    }
   ],
   "source": [
    "def pieChart():\n",
    "    procent = {}\n",
    "    for prog in studentProgress:\n",
    "        t = int(math.ceil(studentProgress[prog] / 10.0)) * 10\n",
    "        procent[t] = procent.get(t, 0) + 1\n",
    "    sizes = []\n",
    "    labels = []\n",
    "    for t in procent:\n",
    "        sizes.append((procent[t] / len(studentProgress)) * 100)\n",
    "        label = []\n",
    "        for prog in studentProgress:\n",
    "            if t == int(math.ceil(studentProgress[prog] / 10.0)) * 10:\n",
    "                label.append(prog)\n",
    "        labels.append('({}%)\\n'.format(t) + ',\\n'.join(label))\n",
    "\n",
    "\n",
    "    # Plot\n",
    "    plt.pie(sizes, labels=labels, autopct='%1.1f%%', shadow=True)\n",
    "pieChart()"
   ]
  },
  {
   "cell_type": "code",
   "execution_count": 88,
   "metadata": {},
   "outputs": [
    {
     "name": "stdout",
     "output_type": "stream",
     "text": "{'Tredje semester': 1, 'Anden semester': 2, 'Første semester': 1}\n{'Python': 2, 'Anden semester': 1, 'Første semester': 1}\n"
    },
    {
     "data": {
      "text/plain": "<BarContainer object of 3 artists>"
     },
     "execution_count": 88,
     "metadata": {},
     "output_type": "execute_result"
    },
    {
     "data": {
      "image/png": "[encoded data removed]",
      "text/plain": "<Figure size 432x288 with 1 Axes>"
     },
     "metadata": {
      "needs_background": "light"
     },
     "output_type": "display_data"
    }
   ],
   "source": [
    "maleCourses = {}\n",
    "femaleCourses = {}\n",
    "for student in students:\n",
    "    for course in students[student].getCourses():\n",
    "        if(students[student].gender == 'Male'):\n",
    "            maleCourses[course.name] = maleCourses.get(course.name, 0) + 1\n",
    "        else:\n",
    "            femaleCourses[course.name] = femaleCourses.get(course.name, 0) + 1\n",
    "print(maleCourses)\n",
    "print(femaleCourses)\n",
    "y_bar = maleCourses.keys()\n",
    "x_bar1 = maleCourses.values()\n",
    "x_bar2 = femaleCourses.values()\n",
    "\n",
    "plt.bar(y_bar, x_bar1 if len(x_bar1) > len(x_bar2) else x_bar2, align='center', color='yellow')\n",
    "plt.bar(y_bar, x_bar2 if len(x_bar2) < len(x_bar2) else x_bar1, align='center', color='red')"
   ]
  },
  {
   "cell_type": "code",
   "execution_count": null,
   "metadata": {},
   "outputs": [],
   "source": []
  }
 ],
 "metadata": {
  "kernelspec": {
   "display_name": "Python 3",
   "language": "python",
   "name": "python3"
  },
  "language_info": {
   "codemirror_mode": {
    "name": "ipython",
    "version": 3
   },
   "file_extension": ".py",
   "mimetype": "text/x-python",
   "name": "python",
   "nbconvert_exporter": "python",
   "pygments_lexer": "ipython3",
   "version": "3.7.4-final"
  }
 },
 "nbformat": 4,
 "nbformat_minor": 2
}