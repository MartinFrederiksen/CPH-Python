{
 "nbformat": 4,
 "nbformat_minor": 2,
 "metadata": {
  "language_info": {
   "name": "python",
   "codemirror_mode": {
    "name": "ipython",
    "version": 3
   },
   "version": "3.7.4-final"
  },
  "orig_nbformat": 2,
  "file_extension": ".py",
  "mimetype": "text/x-python",
  "name": "python",
  "npconvert_exporter": "python",
  "pygments_lexer": "ipython3",
  "version": 3,
  "kernelspec": {
   "name": "python37464bitbaseconda8c3c356c33854de4bbce30c4c9382af5",
   "display_name": "Python 3.7.4 64-bit ('base': conda)"
  }
 },
 "cells": [
  {
   "cell_type": "markdown",
   "metadata": {},
   "source": [
    "\n",
    "Part 1: Preparing data\n",
    "\n",
    "The dataset you will be working with is available here: https://snap.stanford.edu/data/egonets-Facebook.html\n",
    "\n",
    "You're first job is to\n",
    "\n",
    "1. Download the data\n",
    "2. Unpack the data\n",
    "3. Import the data as an undirected graph in networkx\n",
    "\n",
    "This should all be done from your notebook in Python. This is an important step for you to automate data preprocessing.\n",
    "\n",
    "Note: this could take a while, so if you feel adventurous you can use the multiprocessing library to speed things up.\n",
    "\n",
    "Hand-in:\n",
    "\n",
    "    The code for downloading, unpacking and loading the dataset\n",
    "\n"
   ]
  },
  {
   "cell_type": "code",
   "execution_count": 2,
   "metadata": {},
   "outputs": [],
   "source": [
    "import wget\n",
    "import gzip\n",
    "import shutil\n",
    "import networkx as nx\n",
    "import numpy as np\n",
    "\n",
    "wget.download('https://snap.stanford.edu/data/facebook_combined.txt.gz')\n",
    "with gzip.open('facebook_combined.txt.gz', 'rb') as f_in:\n",
    "    with open('facebook_combined.txt', 'wb') as f_out:\n",
    "        shutil.copyfileobj(f_in, f_out)\n",
    "g = nx.read_edgelist('facebook_combined.txt')"
   ]
  },
  {
   "cell_type": "markdown",
   "metadata": {},
   "source": [
    "Part 2: Analyse the data\n",
    "\n",
    "Now, let's take a look at the network you imported.\n",
    "\n",
    "By node degree we mean the number of edges to and from a node. This is different in an undirected network, where in-degree == out-degree, and a directed network where in-degree != out-degree.\n",
    "\n",
    "By graph degree we mean the number of edges in the entire network.\n",
    "\n",
    "Hand-in code that display:\n",
    "\n",
    "1. The number of nodes in the network\n",
    "2. The number of edges in the network\n",
    "3. The average degree in the network\n",
    "4. A visualisation of the network inside your notebook\n",
    "\n"
   ]
  },
  {
   "cell_type": "code",
   "execution_count": 3,
   "metadata": {
    "tags": [
     "outputPrepend"
    ]
   },
   "outputs": [
    {
     "output_type": "stream",
     "name": "stdout",
     "text": "Number of nodes: 4039\nNumber of edges: 4038\n43.69101262688784\n"
    }
   ],
   "source": [
    "import matplotlib.pyplot as plt\n",
    "from networkx.drawing.nx_agraph import graphviz_layout, write_dot\n",
    "\n",
    "G = nx.path_graph(g)\n",
    "print('Number of nodes: {}'.format(G.number_of_nodes()))\n",
    "print('Number of edges: {}'.format(G.number_of_edges()))\n",
    "avg_deg = np.array([g.degree(n) for n in g.nodes()])\n",
    "print(np.sum(avg_deg)/len(avg_deg))\n",
    "nx.draw(g, with_labels = True) \n",
    "plt.savefig(\"graph.png\") "
   ]
  },
  {
   "cell_type": "markdown",
   "metadata": {},
   "source": [
    "\n",
    "Part 3: Find the most popular people\n",
    "\n",
    "We're naturally interested in who has the most friends, so we want to extract top 10. That is, the 10 most connected people.\n",
    "\n",
    "Hand-in:\n",
    "\n",
    "1. Code that extracts and reports the 10 people with the most connections in the network\n",
    "\n"
   ]
  },
  {
   "cell_type": "code",
   "execution_count": null,
   "metadata": {},
   "outputs": [],
   "source": [
    "index_name = [list(g.nodes())[v] for v in avg_deg.argsort()[-10:][::-1]]\n",
    "\n",
    "for elm in index_name:\n",
    "    print('The node: {}, has connections: {}'.format(elm, g.degree(elm)))"
   ]
  },
  {
   "cell_type": "code",
   "execution_count": null,
   "metadata": {},
   "outputs": [],
   "source": []
  },
  {
   "cell_type": "code",
   "execution_count": null,
   "metadata": {},
   "outputs": [],
   "source": []
  }
 ]
}