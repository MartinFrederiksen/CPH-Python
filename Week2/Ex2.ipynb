{
 "cells": [
  {
   "cell_type": "markdown",
   "metadata": {},
   "source": [
    "### Exercise1\n",
    "\n",
    "1. Create a python file with 3 functions:\n",
    "    \n",
    "    A. def print_file_content(file) that can print content of a csv file to the console\n",
    "    \n",
    "    B. def write_list_to_file(output_file, lst) that can take a list of tuple and write each element to a new line in file \n",
    "        \n",
    "        a. rewrite the function so that it gets an arbitrary number of strings instead of a list\n",
    "    \n",
    "    C. def read_csv(input_file) that take a csv file and read each row into a list\n",
    "2. Add a functionality so that the file can be called from cli with 2 arguments\n",
    "    \n",
    "    A. path to csv file\n",
    "    \n",
    "    B. an argument --file file_name that if given will write the content to file_name or otherwise will print it to the console.\n",
    "3. Add a --help cli argument to describe how the module is used\n"
   ]
  },
  {
   "cell_type": "code",
   "execution_count": 10,
   "metadata": {},
   "outputs": [
    {
     "data": {
      "text/plain": "[['Sepal length', 'Sepal width', 'Petal length', 'Petal width', 'Species'],\n ['5.1', '3.5', '1.4', '0.2', 'I. setosa'],\n ['4.9', '3', '1.4', '0.2', 'I. setosa'],\n ['4.7', '3.2', '1.3', '0.2', 'I. setosa'],\n ['4.6', '3.1', '1.5', '0.2', 'I. setosa'],\n ['5', '3.6', '1.4', '0.2', 'I. setosa'],\n ['5.4', '3.9', '1.7', '0.4', 'I. setosa'],\n ['4.6', '3.4', '1.4', '0.3', 'I. setosa'],\n ['5', '3.4', '1.5', '0.2', 'I. setosa'],\n ['4.4', '2.9', '1.4', '0.2', 'I. setosa'],\n ['4.9', '3.1', '1.5', '0.1', 'I. setosa'],\n ['5.4', '3.7', '1.5', '0.2', 'I. setosa'],\n ['4.8', '3.4', '1.6', '0.2', 'I. setosa'],\n ['4.8', '3', '1.4', '0.1', 'I. setosa'],\n ['4.3', '3', '1.1', '0.1', 'I. setosa'],\n ['5.8', '4', '1.2', '0.2', 'I. setosa'],\n ['5.7', '4.4', '1.5', '0.4', 'I. setosa'],\n ['5.4', '3.9', '1.3', '0.4', 'I. setosa'],\n ['5.1', '3.5', '1.4', '0.3', 'I. setosa'],\n ['5.7', '3.8', '1.7', '0.3', 'I. setosa'],\n ['5.1', '3.8', '1.5', '0.3', 'I. setosa'],\n ['5.4', '3.4', '1.7', '0.2', 'I. setosa'],\n ['5.1', '3.7', '1.5', '0.4', 'I. setosa'],\n ['4.6', '3.6', '1', '0.2', 'I. setosa'],\n ['5.1', '3.3', '1.7', '0.5', 'I. setosa'],\n ['4.8', '3.4', '1.9', '0.2', 'I. setosa'],\n ['5', '3', '1.6', '0.2', 'I. setosa'],\n ['5', '3.4', '1.6', '0.4', 'I. setosa'],\n ['5.2', '3.5', '1.5', '0.2', 'I. setosa'],\n ['5.2', '3.4', '1.4', '0.2', 'I. setosa'],\n ['4.7', '3.2', '1.6', '0.2', 'I. setosa'],\n ['4.8', '3.1', '1.6', '0.2', 'I. setosa'],\n ['5.4', '3.4', '1.5', '0.4', 'I. setosa'],\n ['5.2', '4.1', '1.5', '0.1', 'I. setosa'],\n ['5.5', '4.2', '1.4', '0.2', 'I. setosa'],\n ['4.9', '3.1', '1.5', '0.2', 'I. setosa'],\n ['5', '3.2', '1.2', '0.2', 'I. setosa'],\n ['5.5', '3.5', '1.3', '0.2', 'I. setosa'],\n ['4.9', '3.6', '1.4', '0.1', 'I. setosa'],\n ['4.4', '3', '1.3', '0.2', 'I. setosa'],\n ['5.1', '3.4', '1.5', '0.2', 'I. setosa'],\n ['5', '3.5', '1.3', '0.3', 'I. setosa'],\n ['4.5', '2.3', '1.3', '0.3', 'I. setosa'],\n ['4.4', '3.2', '1.3', '0.2', 'I. setosa'],\n ['5', '3.5', '1.6', '0.6', 'I. setosa'],\n ['5.1', '3.8', '1.9', '0.4', 'I. setosa'],\n ['4.8', '3', '1.4', '0.3', 'I. setosa'],\n ['5.1', '3.8', '1.6', '0.2', 'I. setosa'],\n ['4.6', '3.2', '1.4', '0.2', 'I. setosa'],\n ['5.3', '3.7', '1.5', '0.2', 'I. setosa'],\n ['5', '3.3', '1.4', '0.2', 'I. setosa'],\n ['7', '3.2', '4.7', '1.4', 'I. versicolor'],\n ['6.4', '3.2', '4.5', '1.5', 'I. versicolor'],\n ['6.9', '3.1', '4.9', '1.5', 'I. versicolor'],\n ['5.5', '2.3', '4', '1.3', 'I. versicolor'],\n ['6.5', '2.8', '4.6', '1.5', 'I. versicolor'],\n ['5.7', '2.8', '4.5', '1.3', 'I. versicolor'],\n ['6.3', '3.3', '4.7', '1.6', 'I. versicolor'],\n ['4.9', '2.4', '3.3', '1', 'I. versicolor'],\n ['6.6', '2.9', '4.6', '1.3', 'I. versicolor'],\n ['5.2', '2.7', '3.9', '1.4', 'I. versicolor'],\n ['5', '2', '3.5', '1', 'I. versicolor'],\n ['5.9', '3', '4.2', '1.5', 'I. versicolor'],\n ['6', '2.2', '4', '1', 'I. versicolor'],\n ['6.1', '2.9', '4.7', '1.4', 'I. versicolor'],\n ['5.6', '2.9', '3.6', '1.3', 'I. versicolor'],\n ['6.7', '3.1', '4.4', '1.4', 'I. versicolor'],\n ['5.6', '3', '4.5', '1.5', 'I. versicolor'],\n ['5.8', '2.7', '4.1', '1', 'I. versicolor'],\n ['6.2', '2.2', '4.5', '1.5', 'I. versicolor'],\n ['5.6', '2.5', '3.9', '1.1', 'I. versicolor'],\n ['5.9', '3.2', '4.8', '1.8', 'I. versicolor'],\n ['6.1', '2.8', '4', '1.3', 'I. versicolor'],\n ['6.3', '2.5', '4.9', '1.5', 'I. versicolor'],\n ['6.1', '2.8', '4.7', '1.2', 'I. versicolor'],\n ['6.4', '2.9', '4.3', '1.3', 'I. versicolor'],\n ['6.6', '3', '4.4', '1.4', 'I. versicolor'],\n ['6.8', '2.8', '4.8', '1.4', 'I. versicolor'],\n ['6.7', '3', '5', '1.7', 'I. versicolor'],\n ['6', '2.9', '4.5', '1.5', 'I. versicolor'],\n ['5.7', '2.6', '3.5', '1', 'I. versicolor'],\n ['5.5', '2.4', '3.8', '1.1', 'I. versicolor'],\n ['5.5', '2.4', '3.7', '1', 'I. versicolor'],\n ['5.8', '2.7', '3.9', '1.2', 'I. versicolor'],\n ['6', '2.7', '5.1', '1.6', 'I. versicolor'],\n ['5.4', '3', '4.5', '1.5', 'I. versicolor'],\n ['6', '3.4', '4.5', '1.6', 'I. versicolor'],\n ['6.7', '3.1', '4.7', '1.5', 'I. versicolor'],\n ['6.3', '2.3', '4.4', '1.3', 'I. versicolor'],\n ['5.6', '3', '4.1', '1.3', 'I. versicolor'],\n ['5.5', '2.5', '4', '1.3', 'I. versicolor'],\n ['5.5', '2.6', '4.4', '1.2', 'I. versicolor'],\n ['6.1', '3', '4.6', '1.4', 'I. versicolor'],\n ['5.8', '2.6', '4', '1.2', 'I. versicolor'],\n ['5', '2.3', '3.3', '1', 'I. versicolor'],\n ['5.6', '2.7', '4.2', '1.3', 'I. versicolor'],\n ['5.7', '3', '4.2', '1.2', 'I. versicolor'],\n ['5.7', '2.9', '4.2', '1.3', 'I. versicolor'],\n ['6.2', '2.9', '4.3', '1.3', 'I. versicolor'],\n ['5.1', '2.5', '3', '1.1', 'I. versicolor'],\n ['5.7', '2.8', '4.1', '1.3', 'I. versicolor'],\n ['6.3', '3.3', '6', '2.5', 'I. virginica'],\n ['5.8', '2.7', '5.1', '1.9', 'I. virginica'],\n ['7.1', '3', '5.9', '2.1', 'I. virginica'],\n ['6.3', '2.9', '5.6', '1.8', 'I. virginica'],\n ['6.5', '3', '5.8', '2.2', 'I. virginica'],\n ['7.6', '3', '6.6', '2.1', 'I. virginica'],\n ['4.9', '2.5', '4.5', '1.7', 'I. virginica'],\n ['7.3', '2.9', '6.3', '1.8', 'I. virginica'],\n ['6.7', '2.5', '5.8', '1.8', 'I. virginica'],\n ['7.2', '3.6', '6.1', '2.5', 'I. virginica'],\n ['6.5', '3.2', '5.1', '2', 'I. virginica'],\n ['6.4', '2.7', '5.3', '1.9', 'I. virginica'],\n ['6.8', '3', '5.5', '2.1', 'I. virginica'],\n ['5.7', '2.5', '5', '2', 'I. virginica'],\n ['5.8', '2.8', '5.1', '2.4', 'I. virginica'],\n ['6.4', '3.2', '5.3', '2.3', 'I. virginica'],\n ['6.5', '3', '5.5', '1.8', 'I. virginica'],\n ['7.7', '3.8', '6.7', '2.2', 'I. virginica'],\n ['7.7', '2.6', '6.9', '2.3', 'I. virginica'],\n ['6', '2.2', '5', '1.5', 'I. virginica'],\n ['6.9', '3.2', '5.7', '2.3', 'I. virginica'],\n ['5.6', '2.8', '4.9', '2', 'I. virginica'],\n ['7.7', '2.8', '6.7', '2', 'I. virginica'],\n ['6.3', '2.7', '4.9', '1.8', 'I. virginica'],\n ['6.7', '3.3', '5.7', '2.1', 'I. virginica'],\n ['7.2', '3.2', '6', '1.8', 'I. virginica'],\n ['6.2', '2.8', '4.8', '1.8', 'I. virginica'],\n ['6.1', '3', '4.9', '1.8', 'I. virginica'],\n ['6.4', '2.8', '5.6', '2.1', 'I. virginica'],\n ['7.2', '3', '5.8', '1.6', 'I. virginica'],\n ['7.4', '2.8', '6.1', '1.9', 'I. virginica'],\n ['7.9', '3.8', '6.4', '2', 'I. virginica'],\n ['6.4', '2.8', '5.6', '2.2', 'I. virginica'],\n ['6.3', '2.8', '5.1', '1.5', 'I. virginica'],\n ['6.1', '2.6', '5.6', '1.4', 'I. virginica'],\n ['7.7', '3', '6.1', '2.3', 'I. virginica'],\n ['6.3', '3.4', '5.6', '2.4', 'I. virginica'],\n ['6.4', '3.1', '5.5', '1.8', 'I. virginica'],\n ['6', '3', '4.8', '1.8', 'I. virginica'],\n ['6.9', '3.1', '5.4', '2.1', 'I. virginica'],\n ['6.7', '3.1', '5.6', '2.4', 'I. virginica'],\n ['6.9', '3.1', '5.1', '2.3', 'I. virginica'],\n ['5.8', '2.7', '5.1', '1.9', 'I. virginica'],\n ['6.8', '3.2', '5.9', '2.3', 'I. virginica'],\n ['6.7', '3.3', '5.7', '2.5', 'I. virginica'],\n ['6.7', '3', '5.2', '2.3', 'I. virginica'],\n ['6.3', '2.5', '5', '1.9', 'I. virginica'],\n ['6.5', '3', '5.2', '2', 'I. virginica'],\n ['6.2', '3.4', '5.4', '2.3', 'I. virginica'],\n ['5.9', '3', '5.1', '1.8', 'I. virginica']]"
     },
     "execution_count": 10,
     "metadata": {},
     "output_type": "execute_result"
    }
   ],
   "source": [
    "import Functions\n",
    "from importlib import reload\n",
    "reload(Functions)\n",
    "\n",
    "Functions.print_file_content('./irisData.csv')\n",
    "\n",
    "Functions.write_list_to_file('./test.csv', 'Hej', 'Med', 'Dig', 'test')\n",
    "\n",
    "Functions.read_csv('./irisData.csv')"
   ]
  },
  {
   "cell_type": "markdown",
   "execution_count": null,
   "metadata": {},
   "outputs": [],
   "source": [
    "### Exercise2\n",
    "Create a module called utils.py and put the following functions inside:\n",
    "\n",
    "1. first function takes a path to a folder and writes all filenames in the folder to a specified output file\n",
    "2. second takes a path to a folder and write all filenames recursively (files of all sub folders to)\n",
    "3. third takes a list of filenames and print the first line of each\n",
    "4. fourth takes a list of filenames and print each line that contains an email (just look for @)\n",
    "5. fifth takes a list of md files and writes all headlines (lines starting with #) to a file Make sure your module can be called both from cli and imported to another module Create a new module that imports utils.py and test each function.\n",
    "\n"
   ]
  },
  {
   "cell_type": "code",
   "execution_count": 23,
   "metadata": {},
   "outputs": [
    {
     "name": "stdout",
     "output_type": "stream",
     "text": "\"Sepal length\",\"Sepal width\",\"Petal length\",\"Petal width\",\"Species\"\n\n./.DS_Store\n\nimport os\n\nMartin@Frederiksen\n                    if '@' in line:\n\n"
    }
   ],
   "source": [
    "import utils\n",
    "from importlib import reload\n",
    "reload(utils)\n",
    "\n",
    "#utils.allFileNamesInFolder('./', 'test.txt')\n",
    "\n",
    "#utils.filesOfAllSubfolders('./', 'test.txt')\n",
    "\n",
    "names = ['irisData.csv', 'test.txt', 'utils.py']\n",
    "name = ['Ex2.ipynb']\n",
    "utils.firstLineOfFile(names)\n",
    "\n",
    "utils.emailOfFiles(names)\n",
    "\n",
    "utils.printMDHeader(name)"
   ]
  },
  {
   "cell_type": "code",
   "execution_count": null,
   "metadata": {},
   "outputs": [],
   "source": []
  }
 ],
 "metadata": {
  "kernelspec": {
   "display_name": "Python 3.7.4 64-bit ('base': conda)",
   "language": "python",
   "name": "python37464bitbaseconda8c3c356c33854de4bbce30c4c9382af5"
  },
  "language_info": {
   "codemirror_mode": {
    "name": "ipython",
    "version": 3
   },
   "file_extension": ".py",
   "mimetype": "text/x-python",
   "name": "python",
   "nbconvert_exporter": "python",
   "pygments_lexer": "ipython3",
   "version": "3.7.4-final"
  }
 },
 "nbformat": 4,
 "nbformat_minor": 2
}